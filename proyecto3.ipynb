{
  "cells": [
    {
      "cell_type": "markdown",
      "metadata": {
        "id": "Nhd05MwdzUW6"
      },
      "source": [
        "<div align=\"center\">\n",
        "\n",
        "# Proyecto 3\n",
        "\n",
        "## Sede central de Cartago\n",
        "\n",
        "## Escuela de Ingeniería en Computación\n",
        "\n",
        "## Inteligencia artificial (Gr 02 – IC6200)\n",
        "\n",
        "### Regresión lineal con descenso del gradiente y selección de características\n",
        "\n",
        "### Creado por\n",
        "\n",
        "Esteban Pérez Picado – 2021046572\n",
        "\n",
        "Joselyn Montero Rodríguez - 2022136356\n",
        "\n",
        "Manuel A. Rodríguez Murillo - 2021028686\n",
        "\n",
        "### 24-06-2025\n",
        "\n",
        "### Semestre I\n",
        "\n",
        "### Steven Andrey Pacheco Portuguez\n",
        "</div>"
      ]
    },
    {
      "cell_type": "markdown",
      "metadata": {
        "id": "11EUjHlmzUW8"
      },
      "source": [
        "## Introducción\n",
        "..."
      ]
    },
    {
      "cell_type": "markdown",
      "metadata": {
        "id": "sT7su7UHzUW8"
      },
      "source": [
        "## Importación de librerías"
      ]
    },
    {
      "cell_type": "code",
      "execution_count": 1,
      "metadata": {
        "id": "vljWoV1hzUW9"
      },
      "outputs": [],
      "source": [
        "# Python\n",
        "import os\n",
        "import cv2\n",
        "\n",
        "# Visualización y datos\n",
        "import numpy as np\n",
        "import pandas as pd\n",
        "\n",
        "# PyTorch\n",
        "import torch\n",
        "\n",
        "# Utilidades\n",
        "from tqdm import tqdm\n",
        "from joblib import Parallel, delayed\n"
      ]
    },
    {
      "cell_type": "code",
      "execution_count": 2,
      "metadata": {
        "colab": {
          "base_uri": "https://localhost:8080/"
        },
        "id": "intE9mkGzUW9",
        "outputId": "b9bb7d16-3e5e-4e56-e150-30d659c520db"
      },
      "outputs": [
        {
          "output_type": "stream",
          "name": "stdout",
          "text": [
            "Mounted at /content/drive\n"
          ]
        }
      ],
      "source": [
        "# Conexion con drive\n",
        "driveBit = 0\n",
        "try:\n",
        "    from google.colab import drive\n",
        "    drive.mount('/content/drive')\n",
        "    base_path = \"/content/drive/MyDrive/archive\"\n",
        "    driveBit = 1\n",
        "except ImportError:\n",
        "    #Jupyter local\n",
        "    #current_dir = os.path.dirname(os.path.abspath(__file__)) if '__file__' in globals() else os.getcwd()\n",
        "    #base_path = os.path.join(current_dir, \"data\")\n",
        "    print(\"Colab no detectado, usando ruta local:\", base_path)"
      ]
    },
    {
      "cell_type": "code",
      "source": [
        "dataset_path = base_path\n",
        "csv_path = os.path.join(base_path, \"BUTTERFLIES.csv\")"
      ],
      "metadata": {
        "id": "krlM7Exzz1fd"
      },
      "execution_count": 3,
      "outputs": []
    },
    {
      "cell_type": "code",
      "execution_count": 4,
      "metadata": {
        "colab": {
          "base_uri": "https://localhost:8080/"
        },
        "id": "lwfnDUTjzUW-",
        "outputId": "165751ec-44d3-4a87-d080-9dd0b8cea895"
      },
      "outputs": [
        {
          "output_type": "stream",
          "name": "stdout",
          "text": [
            "Is Torch Cuda Available? True\n"
          ]
        }
      ],
      "source": [
        "# Se verifica que se esté trabajando con la gpu\n",
        "device = torch.device(\"cuda\" if torch.cuda.is_available () else \"cpu\")\n",
        "print (\"Is Torch Cuda Available? \" + str (torch.cuda.is_available()))"
      ]
    },
    {
      "cell_type": "markdown",
      "source": [
        "## Selección de especies para el clasificador"
      ],
      "metadata": {
        "id": "4WCZjinn0CaQ"
      }
    },
    {
      "cell_type": "code",
      "source": [
        "# Cargar el archivo CSV que contiene las etiquetas de las imágenes\n",
        "data = pd.read_csv(csv_path)\n",
        "\n",
        "# Contar el número de muestras por especie\n",
        "species_counts = data[\"labels\"].value_counts()\n",
        "\n",
        "# Obtener las 30 especies con mayor cantidad de muestras\n",
        "top_30_species = species_counts.head(30).index.tolist()\n",
        "\n",
        "print(\"Lista de las 30 especies con mayor cantidad de muestras:\")\n",
        "print(top_30_species)\n",
        "\n"
      ],
      "metadata": {
        "colab": {
          "base_uri": "https://localhost:8080/"
        },
        "id": "TQYz73l-0IJh",
        "outputId": "b2ecdb7c-254b-4ed1-9d01-f915743ba99c"
      },
      "execution_count": 5,
      "outputs": [
        {
          "output_type": "stream",
          "name": "stdout",
          "text": [
            "Lista de las 30 especies con mayor cantidad de muestras:\n",
            "['MOURNING CLOAK', 'GREEN HAIRSTREAK', 'BROWN ARGUS', 'BROOKES BIRDWING', 'SLEEPY ORANGE', 'CHALK HILL BLUE', 'HUMMING BIRD HAWK MOTH', 'WHITE LINED SPHINX MOTH', 'ATALA', 'BROWN SIPROETA', 'ARCIGERA FLOWER MOTH', 'BANDED ORANGE HELICONIAN', 'SCARCE SWALLOW', 'CRECENT', 'HERCULES MOTH', 'MILBERTS TORTOISESHELL', 'ROSY MAPLE MOTH', 'RED CRACKER', 'ORANGE TIP', 'BANDED TIGER MOTH', 'Iphiclus sister', 'CHECQUERED SKIPPER', 'EASTERN PINE ELFIN', 'EMPEROR GUM MOTH', 'DANAID EGGFLY', 'GREAT JAY', 'COPPER TAIL', 'EASTERN COMA', 'CLEOPATRA', 'BIRD CHERRY ERMINE MOTH']\n"
          ]
        }
      ]
    },
    {
      "cell_type": "markdown",
      "source": [
        "## Reducción de dimensionalidad de imágenes"
      ],
      "metadata": {
        "id": "ML_9P9eS4fMx"
      }
    },
    {
      "cell_type": "code",
      "source": [
        "# Reduce la dimensión de las imágenes a 128x128 píxeles\n",
        "def resize_image(img_path, size=(128, 128)):\n",
        "    img = cv2.imread(img_path)\n",
        "    if img is not None:\n",
        "        resized_img = cv2.resize(img, size)\n",
        "        return resized_img\n",
        "    else:\n",
        "        print(f\"Error al cargar la imagen: {img_path}\")\n",
        "        return None"
      ],
      "metadata": {
        "id": "i78vSbCCrtT8"
      },
      "execution_count": 10,
      "outputs": []
    },
    {
      "cell_type": "code",
      "source": [
        "def process_images(base_path, top_species):\n",
        "    \"\"\"\n",
        "    Reduce el tamaño de las imágenes de las 30 especies con mayor cantidad de muestras,\n",
        "    y las almacena en una nueva carpeta llamada \"species_selected\"\n",
        "    \"\"\"\n",
        "    # Crear la carpeta \"species_selected\" si no existe\n",
        "    selected_species_path = os.path.join(base_path, \"species_selected\")\n",
        "    os.makedirs(selected_species_path, exist_ok=True)\n",
        "\n",
        "    # Recorrer las carpetas de train, test y valid\n",
        "    for dir in ['train', 'test', 'valid']:\n",
        "        dataset_path = os.path.join(base_path, dir)\n",
        "\n",
        "        # Crear la carpeta para el tipo de dataset\n",
        "        processed_path = os.path.join(selected_species_path, dir)\n",
        "        os.makedirs(processed_path, exist_ok=True)\n",
        "\n",
        "        # Verificar si la carpeta ya fue procesada\n",
        "        if os.listdir(processed_path):  # Si hay archivos en la carpeta, ya fue procesada\n",
        "            print(f\"Las imágenes en '{dir}' ya han sido procesadas.\")\n",
        "            continue  # Saltar a la siguiente carpeta si ya fue procesada\n",
        "\n",
        "        print(f\"Procesando imágenes en '{dir}'...\")\n",
        "\n",
        "        # Recorrer las carpetas de especies\n",
        "        for species in os.listdir(dataset_path):\n",
        "            if species in top_species:\n",
        "                species_path = os.path.join(dataset_path, species)\n",
        "\n",
        "                # Crear una carpeta para la especie en \"species_selected\"\n",
        "                species_selected_path = os.path.join(processed_path, species)\n",
        "                os.makedirs(species_selected_path, exist_ok=True)\n",
        "\n",
        "                # Recorrer las imágenes de la especie\n",
        "                for img_filename in os.listdir(species_path):\n",
        "                    img_path = os.path.join(species_path, img_filename)\n",
        "\n",
        "                    # Redimensionar la imagen\n",
        "                    resized_img = resize_image(img_path)\n",
        "                    if resized_img is not None:\n",
        "\n",
        "                        # Guardar la imagen redimensionada\n",
        "                        output_path = os.path.join(species_selected_path, img_filename)\n",
        "                        cv2.imwrite(output_path, resized_img)\n",
        "\n",
        "        print(f\"Finalizado el procesamiento de imágenes en '{dir}'.\")\n",
        "\n",
        "process_images(dataset_path, top_30_species)"
      ],
      "metadata": {
        "id": "eBXYD0GOyfkP",
        "outputId": "325ea0b4-8fc6-4f1a-e08b-c57af3cee370",
        "colab": {
          "base_uri": "https://localhost:8080/"
        }
      },
      "execution_count": 22,
      "outputs": [
        {
          "output_type": "stream",
          "name": "stdout",
          "text": [
            "Las imágenes en 'train' ya han sido procesadas.\n",
            "Las imágenes en 'test' ya han sido procesadas.\n",
            "Las imágenes en 'valid' ya han sido procesadas.\n"
          ]
        }
      ]
    },
    {
      "cell_type": "code",
      "source": [
        "species_selected_path = os.path.join(dataset_path, \"species_selected\")"
      ],
      "metadata": {
        "id": "o_wd15AR2Dip"
      },
      "execution_count": 18,
      "outputs": []
    },
    {
      "cell_type": "markdown",
      "source": [
        "## Incorporación de muestras al set de testing"
      ],
      "metadata": {
        "id": "ML1GJdim3Dt7"
      }
    },
    {
      "cell_type": "code",
      "source": [],
      "metadata": {
        "id": "OYp-7c443Mkc"
      },
      "execution_count": null,
      "outputs": []
    }
  ],
  "metadata": {
    "kernelspec": {
      "display_name": "Python 3",
      "name": "python3"
    },
    "language_info": {
      "codemirror_mode": {
        "name": "ipython",
        "version": 3
      },
      "file_extension": ".py",
      "mimetype": "text/x-python",
      "name": "python",
      "nbconvert_exporter": "python",
      "pygments_lexer": "ipython3",
      "version": "3.12.9"
    },
    "colab": {
      "provenance": [],
      "toc_visible": true,
      "gpuType": "T4"
    },
    "accelerator": "GPU"
  },
  "nbformat": 4,
  "nbformat_minor": 0
}