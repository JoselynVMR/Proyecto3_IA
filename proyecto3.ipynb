{
  "cells": [
    {
      "cell_type": "markdown",
      "metadata": {
        "id": "Nhd05MwdzUW6"
      },
      "source": [
        "<div align=\"center\">\n",
        "\n",
        "# Proyecto 3\n",
        "\n",
        "## Sede central de Cartago\n",
        "\n",
        "## Escuela de Ingeniería en Computación\n",
        "\n",
        "## Inteligencia artificial (Gr 02 – IC6200)\n",
        "\n",
        "### Regresión lineal con descenso del gradiente y selección de características\n",
        "\n",
        "### Creado por\n",
        "\n",
        "Esteban Pérez Picado – 2021046572\n",
        "\n",
        "Joselyn Montero Rodríguez - 2022136356\n",
        "\n",
        "Manuel A. Rodríguez Murillo - 2021028686\n",
        "\n",
        "### 24-06-2025\n",
        "\n",
        "### Semestre I\n",
        "\n",
        "### Steven Andrey Pacheco Portuguez\n",
        "</div>"
      ]
    },
    {
      "cell_type": "markdown",
      "metadata": {
        "id": "11EUjHlmzUW8"
      },
      "source": [
        "## Introducción\n",
        "..."
      ]
    },
    {
      "cell_type": "markdown",
      "metadata": {
        "id": "sT7su7UHzUW8"
      },
      "source": [
        "## Importación de librerías"
      ]
    },
    {
      "cell_type": "code",
      "execution_count": 4,
      "metadata": {
        "id": "vljWoV1hzUW9"
      },
      "outputs": [],
      "source": [
        "# Python\n",
        "import os\n",
        "\n",
        "# Visualización y datos\n",
        "import numpy as np\n",
        "import pandas as pd\n",
        "\n",
        "# PyTorch\n",
        "import torch\n",
        "\n",
        "# Utilidades\n",
        "from tqdm import tqdm\n",
        "from joblib import Parallel, delayed\n"
      ]
    },
    {
      "cell_type": "code",
      "execution_count": 9,
      "metadata": {
        "id": "intE9mkGzUW9",
        "outputId": "73f4edff-6f46-4a42-e9c6-40ad31f7fa42",
        "colab": {
          "base_uri": "https://localhost:8080/"
        }
      },
      "outputs": [
        {
          "output_type": "stream",
          "name": "stdout",
          "text": [
            "Drive already mounted at /content/drive; to attempt to forcibly remount, call drive.mount(\"/content/drive\", force_remount=True).\n"
          ]
        }
      ],
      "source": [
        "# Conexion con drive\n",
        "driveBit = 0\n",
        "try:\n",
        "    from google.colab import drive\n",
        "    drive.mount('/content/drive')\n",
        "    base_path = \"/content/drive/MyDrive/archive\"\n",
        "    driveBit = 1\n",
        "except ImportError:\n",
        "    #Jupyter local\n",
        "    #current_dir = os.path.dirname(os.path.abspath(__file__)) if '__file__' in globals() else os.getcwd()\n",
        "    #base_path = os.path.join(current_dir, \"data\")\n",
        "    print(\"Colab no detectado, usando ruta local:\", base_path)"
      ]
    },
    {
      "cell_type": "code",
      "source": [
        "dataset_path = base_path\n",
        "csv_path = os.path.join(base_path, \"BUTTERFLIES.csv\")"
      ],
      "metadata": {
        "id": "krlM7Exzz1fd"
      },
      "execution_count": 10,
      "outputs": []
    },
    {
      "cell_type": "code",
      "execution_count": 5,
      "metadata": {
        "id": "lwfnDUTjzUW-",
        "outputId": "1a5ac566-6413-4933-d2a4-8f795cf16486",
        "colab": {
          "base_uri": "https://localhost:8080/"
        }
      },
      "outputs": [
        {
          "output_type": "stream",
          "name": "stdout",
          "text": [
            "Is Torch Cuda Available? True\n"
          ]
        }
      ],
      "source": [
        "# Se verifica que se esté trabajando con la gpu\n",
        "device = torch.device(\"cuda\" if torch.cuda.is_available () else \"cpu\")\n",
        "print (\"Is Torch Cuda Available? \" + str (torch.cuda.is_available()))"
      ]
    },
    {
      "cell_type": "markdown",
      "source": [
        "## Reducción de dimensionalidad de imágenes"
      ],
      "metadata": {
        "id": "ML_9P9eS4fMx"
      }
    },
    {
      "cell_type": "code",
      "source": [],
      "metadata": {
        "id": "F6024Xlv4ib_"
      },
      "execution_count": null,
      "outputs": []
    },
    {
      "cell_type": "markdown",
      "source": [
        "## Selección de especies"
      ],
      "metadata": {
        "id": "4WCZjinn0CaQ"
      }
    },
    {
      "cell_type": "code",
      "source": [
        "# Cargar el archivo CSV que contiene las etiquetas de las imágenes\n",
        "data = pd.read_csv(csv_path)\n",
        "\n",
        "# Contar el número de muestras por especie\n",
        "species_counts = data[\"labels\"].value_counts()\n",
        "\n",
        "# Obtener las 30 especies con mayor cantidad de muestras\n",
        "top_30_species = species_counts.head(30).index.tolist()\n",
        "\n",
        "print(\"Top 30 species with the most samples:\")\n",
        "print(top_30_species)\n",
        "\n"
      ],
      "metadata": {
        "id": "TQYz73l-0IJh",
        "outputId": "f2339c70-6811-46ed-da17-257eadd4b2a6",
        "colab": {
          "base_uri": "https://localhost:8080/"
        }
      },
      "execution_count": 13,
      "outputs": [
        {
          "output_type": "stream",
          "name": "stdout",
          "text": [
            "Top 30 species with the most samples:\n",
            "['MOURNING CLOAK', 'GREEN HAIRSTREAK', 'BROWN ARGUS', 'BROOKES BIRDWING', 'SLEEPY ORANGE', 'CHALK HILL BLUE', 'HUMMING BIRD HAWK MOTH', 'WHITE LINED SPHINX MOTH', 'ATALA', 'BROWN SIPROETA', 'ARCIGERA FLOWER MOTH', 'BANDED ORANGE HELICONIAN', 'SCARCE SWALLOW', 'CRECENT', 'HERCULES MOTH', 'MILBERTS TORTOISESHELL', 'ROSY MAPLE MOTH', 'RED CRACKER', 'ORANGE TIP', 'BANDED TIGER MOTH', 'Iphiclus sister', 'CHECQUERED SKIPPER', 'EASTERN PINE ELFIN', 'EMPEROR GUM MOTH', 'DANAID EGGFLY', 'GREAT JAY', 'COPPER TAIL', 'EASTERN COMA', 'CLEOPATRA', 'BIRD CHERRY ERMINE MOTH']\n"
          ]
        }
      ]
    }
  ],
  "metadata": {
    "kernelspec": {
      "display_name": "Python 3",
      "name": "python3"
    },
    "language_info": {
      "codemirror_mode": {
        "name": "ipython",
        "version": 3
      },
      "file_extension": ".py",
      "mimetype": "text/x-python",
      "name": "python",
      "nbconvert_exporter": "python",
      "pygments_lexer": "ipython3",
      "version": "3.12.9"
    },
    "colab": {
      "provenance": [],
      "toc_visible": true,
      "gpuType": "T4"
    },
    "accelerator": "GPU"
  },
  "nbformat": 4,
  "nbformat_minor": 0
}